{
 "metadata": {
  "name": ""
 },
 "nbformat": 3,
 "nbformat_minor": 0,
 "worksheets": [
  {
   "cells": [
    {
     "cell_type": "heading",
     "level": 1,
     "metadata": {},
     "source": [
      "Retrieving data for a given polygon"
     ]
    },
    {
     "cell_type": "markdown",
     "metadata": {},
     "source": [
      "* [Interactive example](#interactive)\n",
      "* [Commandline utility](#commandline)"
     ]
    },
    {
     "cell_type": "heading",
     "level": 2,
     "metadata": {},
     "source": [
      "Interactive example\n",
      "<a id='interactive'></a>"
     ]
    },
    {
     "cell_type": "code",
     "collapsed": false,
     "input": [
      "from datetime import date\n",
      "import numpy\n",
      "import ogr\n",
      "import pandas\n",
      "import subprocess\n",
      "import sys\n",
      "sys.path.append('/home/547/jps547/git_repositories/sixy6e/agdc/api/source/main/python/')\n",
      "from datacube.api.model import DatasetType, Satellite\n",
      "from datacube.api.query import list_tiles_wkt\n",
      "from datacube.api.utils import get_dataset_metadata, arbitrary_profile\n",
      "from datacube.api.utils import get_mask_aoi_cell, get_dataset_data_stack, DEFAULT_MASK_PQA"
     ],
     "language": "python",
     "metadata": {},
     "outputs": [],
     "prompt_number": 1
    },
    {
     "cell_type": "markdown",
     "metadata": {},
     "source": [
      "Using the ogr library, load the shapefile that contains our polygon of interest."
     ]
    },
    {
     "cell_type": "code",
     "collapsed": false,
     "input": [
      "vector_fname = \"/short/v10/jps547/DcubeDemo/coleambally/rois.shp\"\n",
      "vec_ds = ogr.Open(vector_fname)\n",
      "layer = vec_ds.GetLayer(0)\n",
      "feat = layer.GetFeature(0)\n",
      "ref = feat.GetGeometryRef()"
     ],
     "language": "python",
     "metadata": {},
     "outputs": [],
     "prompt_number": 2
    },
    {
     "cell_type": "markdown",
     "metadata": {},
     "source": [
      "Define some basic properties of the acquisitions that we want to query."
     ]
    },
    {
     "cell_type": "code",
     "collapsed": false,
     "input": [
      "dataset_types = [DatasetType.FC25]\n",
      "min_date = date(2008, 01, 01)\n",
      "max_date = date(2011, 12, 31)\n",
      "years = range(min_date.year, max_date.year+1)\n",
      "satellites = [Satellite(i) for i in ['LS5', 'LS7']]"
     ],
     "language": "python",
     "metadata": {},
     "outputs": [],
     "prompt_number": 3
    },
    {
     "cell_type": "markdown",
     "metadata": {},
     "source": [
      "Using the vector file we loaded previously, we can directly query the `agdc` and return a list of the aquisitions tiles that meet our criteria."
     ]
    },
    {
     "cell_type": "code",
     "collapsed": false,
     "input": [
      "tiles = list_tiles_wkt(ref.ExportToWkt(), satellites=satellites, years=years, datasets=dataset_types)"
     ],
     "language": "python",
     "metadata": {},
     "outputs": [],
     "prompt_number": 4
    },
    {
     "cell_type": "code",
     "collapsed": false,
     "input": [
      "print \"Number of tiles/time slices: {}\".format(len(tiles))"
     ],
     "language": "python",
     "metadata": {},
     "outputs": [
      {
       "output_type": "stream",
       "stream": "stdout",
       "text": [
        "Number of tiles/time slices: 180\n"
       ]
      }
     ],
     "prompt_number": 5
    },
    {
     "cell_type": "code",
     "collapsed": false,
     "input": [
      "tile_zero = tiles[0]\n",
      "cell_x = tile_zero.x\n",
      "cell_y = tile_zero.y\n",
      "print \"Lower left corner of cell\\n x: {x}, y: {y}\".format(x=cell_x, y=cell_y)"
     ],
     "language": "python",
     "metadata": {},
     "outputs": [
      {
       "output_type": "stream",
       "stream": "stdout",
       "text": [
        "Lower left corner of cell\n",
        " x: 146, y: -35\n"
       ]
      }
     ],
     "prompt_number": 6
    },
    {
     "cell_type": "markdown",
     "metadata": {},
     "source": [
      "We'll create a list of timestamps. This'll be used later when we load the data into the `pandas.DataFrame`."
     ]
    },
    {
     "cell_type": "code",
     "collapsed": false,
     "input": [
      "timestamps = []\n",
      "for tile in tiles:\n",
      "    timestamps.append(tile.start_datetime)"
     ],
     "language": "python",
     "metadata": {},
     "outputs": [],
     "prompt_number": 7
    },
    {
     "cell_type": "markdown",
     "metadata": {},
     "source": [
      "Retrieve some basic information of the `DatasetType` that we wish to investigate."
     ]
    },
    {
     "cell_type": "code",
     "collapsed": false,
     "input": [
      "fc_ds = tiles[0].datasets[DatasetType.FC25]\n",
      "bands = fc_ds.bands\n",
      "metadata = get_dataset_metadata(fc_ds)\n",
      "geotransform = metadata.transform"
     ],
     "language": "python",
     "metadata": {},
     "outputs": [],
     "prompt_number": 8
    },
    {
     "cell_type": "markdown",
     "metadata": {},
     "source": [
      "Now we perform the rasterisation process, specifying the `layer` and the polygon feature id `FID`, in this case layer `0` and `FID 0`."
     ]
    },
    {
     "cell_type": "code",
     "collapsed": false,
     "input": [
      "mask = get_mask_aoi_cell(vector_fname, vector_layer=0, vector_feature=0, x=cell_x, y=cell_y)"
     ],
     "language": "python",
     "metadata": {},
     "outputs": [],
     "prompt_number": 9
    },
    {
     "cell_type": "code",
     "collapsed": false,
     "input": [
      "print \"Number of pixels that make up our polygon: {}\".format((~mask).sum())"
     ],
     "language": "python",
     "metadata": {},
     "outputs": [
      {
       "output_type": "stream",
       "stream": "stdout",
       "text": [
        "Number of pixels that make up our polygon: 730\n"
       ]
      }
     ],
     "prompt_number": 10
    },
    {
     "cell_type": "markdown",
     "metadata": {},
     "source": [
      "Now we'll create a bounding box, from which we can read just the subset of data that encloses our polygon."
     ]
    },
    {
     "cell_type": "code",
     "collapsed": false,
     "input": [
      "wh = numpy.where(mask == False)"
     ],
     "language": "python",
     "metadata": {},
     "outputs": [],
     "prompt_number": 11
    },
    {
     "cell_type": "code",
     "collapsed": false,
     "input": [
      "ymin = numpy.min(wh[0])\n",
      "ymax = numpy.max(wh[0])\n",
      "xmin = numpy.min(wh[1])\n",
      "xmax = numpy.max(wh[1])\n",
      "ysize = ymax - ymin + 1\n",
      "xsize = xmax - xmin + 1\n",
      "print \"ymin: {}\".format(ymin)\n",
      "print \"ymax: {}\".format(ymax)\n",
      "print \"xmin: {}\".format(xmin)\n",
      "print \"xmax: {}\".format(xmax)\n",
      "print \"ysize: {}\".format(ysize)\n",
      "print \"xsize: {}\".format(xsize)"
     ],
     "language": "python",
     "metadata": {},
     "outputs": [
      {
       "output_type": "stream",
       "stream": "stdout",
       "text": [
        "ymin: 3063\n",
        "ymax: 3089\n",
        "xmin: 151\n",
        "xmax: 184\n",
        "ysize: 27\n",
        "xsize: 34\n"
       ]
      }
     ],
     "prompt_number": 12
    },
    {
     "cell_type": "markdown",
     "metadata": {},
     "source": [
      "Using the `get_dataset_stack` function, we can create a 3D `NumPy` array of data containing the timeseries for the `BARE_SOIL` component of the `Fractional Cover` data."
     ]
    },
    {
     "cell_type": "code",
     "collapsed": false,
     "input": [
      "data = numpy.array(get_dataset_data_stack(tiles, DatasetType.FC25, bands.BARE_SOIL.name, x=xmin, y=ymin, x_size=xsize, y_size=ysize,\n",
      "                              mask_pqa_apply=True, mask_pqa_mask=DEFAULT_MASK_PQA), dtype='float')"
     ],
     "language": "python",
     "metadata": {},
     "outputs": [],
     "prompt_number": 13
    },
    {
     "cell_type": "code",
     "collapsed": false,
     "input": [
      "print \"Data dimensions: {}\".format(data.shape)"
     ],
     "language": "python",
     "metadata": {},
     "outputs": [
      {
       "output_type": "stream",
       "stream": "stdout",
       "text": [
        "Data dimensions: (180, 27, 34)\n"
       ]
      }
     ],
     "prompt_number": 14
    },
    {
     "cell_type": "markdown",
     "metadata": {},
     "source": [
      "In order to define a mask to use for our subset of data, we need to compute the offsets of the array co-ordinates produced earlier."
     ]
    },
    {
     "cell_type": "code",
     "collapsed": false,
     "input": [
      "wh_offset = (wh[0] - ymin, wh[1] - xmin)"
     ],
     "language": "python",
     "metadata": {},
     "outputs": [],
     "prompt_number": 15
    },
    {
     "cell_type": "markdown",
     "metadata": {},
     "source": [
      "The internal masking that was applied during the `get_dataset_data_stack` function, set the null value to -999. So the next step is to turn the `-999` data into `NaN's` so they can be ignored using `NumPy's` `nan{routine}` functions eg `numpy.nanmean`."
     ]
    },
    {
     "cell_type": "code",
     "collapsed": false,
     "input": [
      "data[data == -999] = numpy.nan"
     ],
     "language": "python",
     "metadata": {},
     "outputs": [],
     "prompt_number": 16
    },
    {
     "cell_type": "markdown",
     "metadata": {},
     "source": [
      "For this example, we'll only calcualte the polygon mean value at each timeslice. To do this we'll loop over each `timeslice/band` and calculate the mean value."
     ]
    },
    {
     "cell_type": "code",
     "collapsed": false,
     "input": [
      "xbar = []\n",
      "for band in data:\n",
      "    xbar.append(numpy.nanmean(band[wh_offset]))\n",
      "xbar = numpy.array(xbar)"
     ],
     "language": "python",
     "metadata": {},
     "outputs": [
      {
       "output_type": "stream",
       "stream": "stderr",
       "text": [
        "/apps/python/2.7.6/lib/python2.7/site-packages/numpy/lib/nanfunctions.py:607: RuntimeWarning: Mean of empty slice\n",
        "  warnings.warn(\"Mean of empty slice\", RuntimeWarning)\n"
       ]
      }
     ],
     "prompt_number": 17
    },
    {
     "cell_type": "code",
     "collapsed": false,
     "input": [
      "print xbar"
     ],
     "language": "python",
     "metadata": {},
     "outputs": [
      {
       "output_type": "stream",
       "stream": "stdout",
       "text": [
        "[ 1726.85542169  1323.70410959            nan  1403.44490644  1641.1408776\n",
        "  1213.41780822            nan  3215.86596386  2188.79863014            nan\n",
        "  6858.76891334  5396.96335079  4240.78356164  3737.92465753  5016.11649017\n",
        "  5430.5009901   2917.49726027  3118.92269327            nan  4837.98618307\n",
        "  4898.43950617  4621.24516129  4726.51811594  4666.97968397            nan\n",
        "  5699.07042254  2532.96196868  4991.74017467  2959.04657534  5075.1185567\n",
        "            nan  3229.90752351  1769.04049844  2651.17808219  2503.93287671\n",
        "   982.0805501             nan  1951.18791946  2086.03972603  3246.89726027\n",
        "  3303.66617862  3372.87260274  2289.21917808  3754.59151786  1997.04657534\n",
        "  1629.24520548  6245.31319911            nan  2954.23150685  2785.81880734\n",
        "  1191.59302326  2925.64520548  3980.85807504  6388.72380952  4615.45616438\n",
        "  5182.39493671  5831.20958904  5660.12715856            nan  2721.61608498\n",
        "  1616.64794521  3082.76282051  4026.39305302  2505.12739726            nan\n",
        "  5887.51026393  3594.99589041  4560.10596026  4687.6326087   4074.73424658\n",
        "  3963.2         5845.83021807            nan            nan  3810.81879195\n",
        "  1481.88709677            nan  4098.09545455  5104.03458213  5061.54608295\n",
        "  5073.1516035   3777.61369863            nan  3982.07621247  4745.62125341\n",
        "  2842.2890411   2332.12328767  3127.73838631  1128.91188525  1683.23835616\n",
        "            nan  1880.57945205  2677.71748879  1811.26834382  1816.66164384\n",
        "  2621.60136986  3397.00826446  2342.62222222  4519.15132924  3631.44383562\n",
        "            nan  2445.39178082  5459.26769912  5034.20684932            nan\n",
        "  7414.99779249  5921.60136986  9301.98816568  4218.69726027  2842.28045326\n",
        "  2381.51972158  2653.04246575  2719.5260274   2504.54643629  3781.01948052\n",
        "            nan  3895.28571429  4184.70184255  4573.64109589  5822.68548387\n",
        "  4781.57788945  5899.04535147  5089.47845805  6671.18397626  4924.27816092\n",
        "  4035.55045872            nan  2547.90958904  3651.90846287  2467.92957746\n",
        "  3452.32482993            nan  3819.69241573  2334.34931507  3180.83978873\n",
        "  2468.1443299   3368.89678899            nan  2831.92211838            nan\n",
        "  2024.38901602  1513.93013699  2500.60470085            nan            nan\n",
        "            nan  1499.01780822  2359.47207207  1296.00410959  1738.99824869\n",
        "  1397.1630137   1892.15456674  1155.3715847    854.15616438            nan\n",
        "  1888.84883721            nan  2257.04612546  1306.95342466            nan\n",
        "            nan            nan            nan            nan  1734.09570312\n",
        "  1471.18327974  1403.39491917  2317.02694611  1715.2109589   2573.54495913\n",
        "  2106.23835616  3748.2260274   4222.71947195            nan  3961.73265306\n",
        "  2715.65616438  3522.03150685  4104.1766055             nan  2697.19393939]\n"
       ]
      }
     ],
     "prompt_number": 18
    },
    {
     "cell_type": "markdown",
     "metadata": {},
     "source": [
      "We'll now do the same for the `Photsynthetic Vegetation` and the `Non-Phtosynthetic Vegetation` components of the `Fractional Cover` dataset."
     ]
    },
    {
     "cell_type": "code",
     "collapsed": false,
     "input": [
      "pv = numpy.array(get_dataset_data_stack(tiles, DatasetType.FC25, bands.PHOTOSYNTHETIC_VEGETATION.name, x=xmin, y=ymin, x_size=xsize,\n",
      "                                        y_size=ysize, mask_pqa_apply=True, mask_pqa_mask=DEFAULT_MASK_PQA), dtype='float')"
     ],
     "language": "python",
     "metadata": {},
     "outputs": [],
     "prompt_number": 19
    },
    {
     "cell_type": "code",
     "collapsed": false,
     "input": [
      "npv = numpy.array(get_dataset_data_stack(tiles, DatasetType.FC25, bands.NON_PHOTOSYNTHETIC_VEGETATION.name, x=xmin, y=ymin,\n",
      "                                         x_size=xsize, y_size=ysize, mask_pqa_apply=True,\n",
      "                                         mask_pqa_mask=DEFAULT_MASK_PQA), dtype='float')"
     ],
     "language": "python",
     "metadata": {},
     "outputs": [],
     "prompt_number": 20
    },
    {
     "cell_type": "code",
     "collapsed": false,
     "input": [
      "pv[pv == -999] = numpy.nan\n",
      "npv[npv == -999] = numpy.nan"
     ],
     "language": "python",
     "metadata": {},
     "outputs": [],
     "prompt_number": 21
    },
    {
     "cell_type": "code",
     "collapsed": false,
     "input": [
      "xbar_pv = []\n",
      "xbar_npv = []\n",
      "for i in range(data.shape[0]):\n",
      "    xbar_pv.append(numpy.nanmean(pv[i][wh_offset]))\n",
      "    xbar_npv.append(numpy.nanmean(npv[i][wh_offset]))"
     ],
     "language": "python",
     "metadata": {},
     "outputs": [],
     "prompt_number": 22
    },
    {
     "cell_type": "markdown",
     "metadata": {},
     "source": [
      "We'll insert the results into a `pandas.DataFrame` and exploit `pandas'` ability to manipulate timeseries data, such as indexing, resampling, and plotting. This allows a much easier framework in order to further explore the data."
     ]
    },
    {
     "cell_type": "code",
     "collapsed": false,
     "input": [
      "df = pandas.DataFrame({'Bare_Soil': xbar, 'Photosynthetic_Vegetation': xbar_pv,\n",
      "                       'Non_Photosynthetic_Vegetation': xbar_npv}, index=timestamps)"
     ],
     "language": "python",
     "metadata": {},
     "outputs": [],
     "prompt_number": 23
    },
    {
     "cell_type": "code",
     "collapsed": false,
     "input": [
      "df.head(10)"
     ],
     "language": "python",
     "metadata": {},
     "outputs": [
      {
       "html": [
        "<div style=\"max-height:1000px;max-width:1500px;overflow:auto;\">\n",
        "<table border=\"1\" class=\"dataframe\">\n",
        "  <thead>\n",
        "    <tr style=\"text-align: right;\">\n",
        "      <th></th>\n",
        "      <th>Bare_Soil</th>\n",
        "      <th>Non_Photosynthetic_Vegetation</th>\n",
        "      <th>Photosynthetic_Vegetation</th>\n",
        "    </tr>\n",
        "  </thead>\n",
        "  <tbody>\n",
        "    <tr>\n",
        "      <th>2008-01-12 23:58:35.810649</th>\n",
        "      <td> 1726.855422</td>\n",
        "      <td> 5406.858434</td>\n",
        "      <td> 2815.490964</td>\n",
        "    </tr>\n",
        "    <tr>\n",
        "      <th>2008-01-13 23:53:37.336044</th>\n",
        "      <td> 1323.704110</td>\n",
        "      <td> 6461.890411</td>\n",
        "      <td> 2213.171233</td>\n",
        "    </tr>\n",
        "    <tr>\n",
        "      <th>2008-01-20 23:59:15.642088</th>\n",
        "      <td>         NaN</td>\n",
        "      <td>         NaN</td>\n",
        "      <td>         NaN</td>\n",
        "    </tr>\n",
        "    <tr>\n",
        "      <th>2008-01-21 23:52:48.443053</th>\n",
        "      <td> 1403.444906</td>\n",
        "      <td> 7153.991684</td>\n",
        "      <td> 1444.848233</td>\n",
        "    </tr>\n",
        "    <tr>\n",
        "      <th>2008-01-28 23:58:34.472439</th>\n",
        "      <td> 1641.140878</td>\n",
        "      <td> 7251.355658</td>\n",
        "      <td> 1105.612009</td>\n",
        "    </tr>\n",
        "    <tr>\n",
        "      <th>2008-01-29 23:53:18.962013</th>\n",
        "      <td> 1213.417808</td>\n",
        "      <td> 6009.498630</td>\n",
        "      <td> 2819.854795</td>\n",
        "    </tr>\n",
        "    <tr>\n",
        "      <th>2008-02-05 23:58:59.104081</th>\n",
        "      <td>         NaN</td>\n",
        "      <td>         NaN</td>\n",
        "      <td>         NaN</td>\n",
        "    </tr>\n",
        "    <tr>\n",
        "      <th>2008-02-13 23:58:31.320482</th>\n",
        "      <td> 3215.865964</td>\n",
        "      <td> 5678.796687</td>\n",
        "      <td> 1115.034639</td>\n",
        "    </tr>\n",
        "    <tr>\n",
        "      <th>2008-02-14 23:53:02.845031</th>\n",
        "      <td> 2188.798630</td>\n",
        "      <td> 6793.869863</td>\n",
        "      <td> 1048.461644</td>\n",
        "    </tr>\n",
        "    <tr>\n",
        "      <th>2008-02-21 23:58:42.111038</th>\n",
        "      <td>         NaN</td>\n",
        "      <td>         NaN</td>\n",
        "      <td>         NaN</td>\n",
        "    </tr>\n",
        "  </tbody>\n",
        "</table>\n",
        "</div>"
       ],
       "metadata": {},
       "output_type": "pyout",
       "prompt_number": 24,
       "text": [
        "                              Bare_Soil  Non_Photosynthetic_Vegetation  \\\n",
        "2008-01-12 23:58:35.810649  1726.855422                    5406.858434   \n",
        "2008-01-13 23:53:37.336044  1323.704110                    6461.890411   \n",
        "2008-01-20 23:59:15.642088          NaN                            NaN   \n",
        "2008-01-21 23:52:48.443053  1403.444906                    7153.991684   \n",
        "2008-01-28 23:58:34.472439  1641.140878                    7251.355658   \n",
        "2008-01-29 23:53:18.962013  1213.417808                    6009.498630   \n",
        "2008-02-05 23:58:59.104081          NaN                            NaN   \n",
        "2008-02-13 23:58:31.320482  3215.865964                    5678.796687   \n",
        "2008-02-14 23:53:02.845031  2188.798630                    6793.869863   \n",
        "2008-02-21 23:58:42.111038          NaN                            NaN   \n",
        "\n",
        "                            Photosynthetic_Vegetation  \n",
        "2008-01-12 23:58:35.810649                2815.490964  \n",
        "2008-01-13 23:53:37.336044                2213.171233  \n",
        "2008-01-20 23:59:15.642088                        NaN  \n",
        "2008-01-21 23:52:48.443053                1444.848233  \n",
        "2008-01-28 23:58:34.472439                1105.612009  \n",
        "2008-01-29 23:53:18.962013                2819.854795  \n",
        "2008-02-05 23:58:59.104081                        NaN  \n",
        "2008-02-13 23:58:31.320482                1115.034639  \n",
        "2008-02-14 23:53:02.845031                1048.461644  \n",
        "2008-02-21 23:58:42.111038                        NaN  "
       ]
      }
     ],
     "prompt_number": 24
    },
    {
     "cell_type": "code",
     "collapsed": false,
     "input": [
      "df.plot(title='Polygon_0 Fractional Cover timeseries 2008-2012')\n",
      "tight_layout()"
     ],
     "language": "python",
     "metadata": {},
     "outputs": [
      {
       "metadata": {},
       "output_type": "display_data",
       "png": "[encoded data removed]",
       "text": [
        "<matplotlib.figure.Figure at 0x64889d0>"
       ]
      }
     ],
     "prompt_number": 25
    },
    {
     "cell_type": "code",
     "collapsed": false,
     "input": [
      "df['2010':'2012'].plot(title='2010-2012 Fractional Cover timeseries')\n",
      "tight_layout()"
     ],
     "language": "python",
     "metadata": {},
     "outputs": [
      {
       "metadata": {},
       "output_type": "display_data",
       "png": "[encoded data removed]",
       "text": [
        "<matplotlib.figure.Figure at 0x6916e90>"
       ]
      }
     ],
     "prompt_number": 26
    },
    {
     "cell_type": "code",
     "collapsed": false,
     "input": [
      "resample = df['2010':'2012'].resample('M')"
     ],
     "language": "python",
     "metadata": {},
     "outputs": [],
     "prompt_number": 27
    },
    {
     "cell_type": "code",
     "collapsed": false,
     "input": [
      "fig, axes = subplots(nrows=1)\n",
      "resample.plot(title='Monthly Resampling', ax=axes)\n",
      "legend(loc='center right', bbox_to_anchor=(1.75, 0.5))\n",
      "tight_layout()"
     ],
     "language": "python",
     "metadata": {},
     "outputs": [
      {
       "metadata": {},
       "output_type": "display_data",
       "png": "[encoded data removed]",
       "text": [
        "<matplotlib.figure.Figure at 0x6c15610>"
       ]
      }
     ],
     "prompt_number": 28
    },
    {
     "cell_type": "heading",
     "level": 2,
     "metadata": {},
     "source": [
      "Commandline utility\n",
      "<a id='commandline'></a>"
     ]
    },
    {
     "cell_type": "markdown",
     "metadata": {},
     "source": [
      "The following demonstrates how to use the inbuilt commandline utility that outputs a `csv` file."
     ]
    },
    {
     "cell_type": "code",
     "collapsed": false,
     "input": [
      "cmd = ['python']\n",
      "cmd.append('/home/547/jps547/git_repositories/sixy6e/agdc/api/source/main/python/datacube/api/tool/retrieve_aoi_time_series.py')\n",
      "cmd.extend(['--acq-min', '{}'.format(min_date.strftime('%Y-%m-%d'))])\n",
      "cmd.extend(['--acq-max', '{}'.format(max_date.strftime('%Y-%m-%d'))])\n",
      "cmd.extend(['--satellite', 'LS5'])\n",
      "cmd.append('--mask-pqa-apply')\n",
      "cmd.extend(['--dataset-type', 'FC25'])\n",
      "cmd.extend(['--vector-file', vector_fname])\n",
      "cmd.extend(['--vector-layer', '0'])\n",
      "cmd.extend(['--vector-feature', '0'])\n",
      "cmd.extend(['--output-directory', '/home/547/jps547/tmp/cmd_aoi_query'])\n",
      "cmd.append('--quiet')"
     ],
     "language": "python",
     "metadata": {},
     "outputs": [],
     "prompt_number": 29
    },
    {
     "cell_type": "code",
     "collapsed": false,
     "input": [
      "subprocess.check_call(cmd)"
     ],
     "language": "python",
     "metadata": {},
     "outputs": [
      {
       "metadata": {},
       "output_type": "pyout",
       "prompt_number": 30,
       "text": [
        "0"
       ]
      }
     ],
     "prompt_number": 30
    },
    {
     "cell_type": "markdown",
     "metadata": {},
     "source": [
      "Once again, the `pandas` library has an in-built mechanism for redaing various formats such as `csv`."
     ]
    },
    {
     "cell_type": "code",
     "collapsed": false,
     "input": [
      "result_df = pandas.read_csv('/home/547/jps547/tmp/cmd_aoi_query/output.csv')"
     ],
     "language": "python",
     "metadata": {},
     "outputs": [],
     "prompt_number": 31
    },
    {
     "cell_type": "code",
     "collapsed": false,
     "input": [
      "result_df.head(5)"
     ],
     "language": "python",
     "metadata": {},
     "outputs": [
      {
       "html": [
        "<div style=\"max-height:1000px;max-width:1500px;overflow:auto;\">\n",
        "<table border=\"1\" class=\"dataframe\">\n",
        "  <thead>\n",
        "    <tr style=\"text-align: right;\">\n",
        "      <th></th>\n",
        "      <th>DATE</th>\n",
        "      <th>INSTRUMENT</th>\n",
        "      <th># PIXELS</th>\n",
        "      <th># PIXELS IN AOI</th>\n",
        "      <th>PHOTOSYNTHETIC_VEGETATION - # DATA PIXELS</th>\n",
        "      <th>PHOTOSYNTHETIC_VEGETATION - # DATA PIXELS AFTER PQA</th>\n",
        "      <th>PHOTOSYNTHETIC_VEGETATION - # DATA PIXELS AFTER PQA WOFS</th>\n",
        "      <th>PHOTOSYNTHETIC_VEGETATION - # DATA PIXELS AFTER PQA WOFS AOI</th>\n",
        "      <th>PHOTOSYNTHETIC_VEGETATION - MIN</th>\n",
        "      <th>PHOTOSYNTHETIC_VEGETATION - MAX</th>\n",
        "      <th>...</th>\n",
        "      <th>BARE_SOIL - MIN</th>\n",
        "      <th>BARE_SOIL - MAX</th>\n",
        "      <th>BARE_SOIL - MEAN</th>\n",
        "      <th>UNMIXING_ERROR - # DATA PIXELS</th>\n",
        "      <th>UNMIXING_ERROR - # DATA PIXELS AFTER PQA</th>\n",
        "      <th>UNMIXING_ERROR - # DATA PIXELS AFTER PQA WOFS</th>\n",
        "      <th>UNMIXING_ERROR - # DATA PIXELS AFTER PQA WOFS AOI</th>\n",
        "      <th>UNMIXING_ERROR - MIN</th>\n",
        "      <th>UNMIXING_ERROR - MAX</th>\n",
        "      <th>UNMIXING_ERROR - MEAN</th>\n",
        "    </tr>\n",
        "  </thead>\n",
        "  <tbody>\n",
        "    <tr>\n",
        "      <th>0</th>\n",
        "      <td> 2008-01-13 23:54:01.336044</td>\n",
        "      <td> TM</td>\n",
        "      <td> 16000000</td>\n",
        "      <td> 730</td>\n",
        "      <td> 16000000</td>\n",
        "      <td> 16000000</td>\n",
        "      <td> 16000000</td>\n",
        "      <td> 730</td>\n",
        "      <td>   0</td>\n",
        "      <td> 7700</td>\n",
        "      <td>...</td>\n",
        "      <td>  0</td>\n",
        "      <td>  3831</td>\n",
        "      <td> 1323</td>\n",
        "      <td> 16000000</td>\n",
        "      <td> 16000000</td>\n",
        "      <td> 16000000</td>\n",
        "      <td> 730</td>\n",
        "      <td> 861</td>\n",
        "      <td> 1798</td>\n",
        "      <td> 1204</td>\n",
        "    </tr>\n",
        "    <tr>\n",
        "      <th>1</th>\n",
        "      <td> 2008-01-20 23:59:39.642088</td>\n",
        "      <td> TM</td>\n",
        "      <td> 16000000</td>\n",
        "      <td> 730</td>\n",
        "      <td>   948036</td>\n",
        "      <td>   948036</td>\n",
        "      <td>   948036</td>\n",
        "      <td>   0</td>\n",
        "      <td>  --</td>\n",
        "      <td>   --</td>\n",
        "      <td>...</td>\n",
        "      <td> --</td>\n",
        "      <td>    --</td>\n",
        "      <td>   --</td>\n",
        "      <td>   948036</td>\n",
        "      <td>   948036</td>\n",
        "      <td>   948036</td>\n",
        "      <td>   0</td>\n",
        "      <td>  --</td>\n",
        "      <td>   --</td>\n",
        "      <td>   --</td>\n",
        "    </tr>\n",
        "    <tr>\n",
        "      <th>2</th>\n",
        "      <td> 2008-01-29 23:53:42.962013</td>\n",
        "      <td> TM</td>\n",
        "      <td> 16000000</td>\n",
        "      <td> 730</td>\n",
        "      <td> 16000000</td>\n",
        "      <td> 16000000</td>\n",
        "      <td> 16000000</td>\n",
        "      <td> 730</td>\n",
        "      <td> 300</td>\n",
        "      <td> 8555</td>\n",
        "      <td>...</td>\n",
        "      <td>  0</td>\n",
        "      <td>  5344</td>\n",
        "      <td> 1213</td>\n",
        "      <td> 16000000</td>\n",
        "      <td> 16000000</td>\n",
        "      <td> 16000000</td>\n",
        "      <td> 730</td>\n",
        "      <td> 760</td>\n",
        "      <td> 1353</td>\n",
        "      <td>  938</td>\n",
        "    </tr>\n",
        "    <tr>\n",
        "      <th>3</th>\n",
        "      <td> 2008-02-05 23:59:23.104081</td>\n",
        "      <td> TM</td>\n",
        "      <td> 16000000</td>\n",
        "      <td> 730</td>\n",
        "      <td>   918026</td>\n",
        "      <td>   918026</td>\n",
        "      <td>   918026</td>\n",
        "      <td>   0</td>\n",
        "      <td>  --</td>\n",
        "      <td>   --</td>\n",
        "      <td>...</td>\n",
        "      <td> --</td>\n",
        "      <td>    --</td>\n",
        "      <td>   --</td>\n",
        "      <td>   918026</td>\n",
        "      <td>   918026</td>\n",
        "      <td>   918026</td>\n",
        "      <td>   0</td>\n",
        "      <td>  --</td>\n",
        "      <td>   --</td>\n",
        "      <td>   --</td>\n",
        "    </tr>\n",
        "    <tr>\n",
        "      <th>4</th>\n",
        "      <td> 2008-02-14 23:53:26.845031</td>\n",
        "      <td> TM</td>\n",
        "      <td> 16000000</td>\n",
        "      <td> 730</td>\n",
        "      <td> 16000000</td>\n",
        "      <td> 16000000</td>\n",
        "      <td> 16000000</td>\n",
        "      <td> 730</td>\n",
        "      <td>   0</td>\n",
        "      <td> 6617</td>\n",
        "      <td>...</td>\n",
        "      <td>  0</td>\n",
        "      <td> 10565</td>\n",
        "      <td> 2188</td>\n",
        "      <td> 16000000</td>\n",
        "      <td> 16000000</td>\n",
        "      <td> 16000000</td>\n",
        "      <td> 730</td>\n",
        "      <td> 903</td>\n",
        "      <td> 1858</td>\n",
        "      <td> 1194</td>\n",
        "    </tr>\n",
        "  </tbody>\n",
        "</table>\n",
        "<p>5 rows \u00d7 32 columns</p>\n",
        "</div>"
       ],
       "metadata": {},
       "output_type": "pyout",
       "prompt_number": 32,
       "text": [
        "                         DATE INSTRUMENT  # PIXELS  # PIXELS IN AOI  \\\n",
        "0  2008-01-13 23:54:01.336044         TM  16000000              730   \n",
        "1  2008-01-20 23:59:39.642088         TM  16000000              730   \n",
        "2  2008-01-29 23:53:42.962013         TM  16000000              730   \n",
        "3  2008-02-05 23:59:23.104081         TM  16000000              730   \n",
        "4  2008-02-14 23:53:26.845031         TM  16000000              730   \n",
        "\n",
        "   PHOTOSYNTHETIC_VEGETATION - # DATA PIXELS  \\\n",
        "0                                   16000000   \n",
        "1                                     948036   \n",
        "2                                   16000000   \n",
        "3                                     918026   \n",
        "4                                   16000000   \n",
        "\n",
        "   PHOTOSYNTHETIC_VEGETATION - # DATA PIXELS AFTER PQA  \\\n",
        "0                                           16000000     \n",
        "1                                             948036     \n",
        "2                                           16000000     \n",
        "3                                             918026     \n",
        "4                                           16000000     \n",
        "\n",
        "   PHOTOSYNTHETIC_VEGETATION - # DATA PIXELS AFTER PQA WOFS  \\\n",
        "0                                           16000000          \n",
        "1                                             948036          \n",
        "2                                           16000000          \n",
        "3                                             918026          \n",
        "4                                           16000000          \n",
        "\n",
        "   PHOTOSYNTHETIC_VEGETATION - # DATA PIXELS AFTER PQA WOFS AOI  \\\n",
        "0                                                730              \n",
        "1                                                  0              \n",
        "2                                                730              \n",
        "3                                                  0              \n",
        "4                                                730              \n",
        "\n",
        "  PHOTOSYNTHETIC_VEGETATION - MIN PHOTOSYNTHETIC_VEGETATION - MAX  \\\n",
        "0                               0                            7700   \n",
        "1                              --                              --   \n",
        "2                             300                            8555   \n",
        "3                              --                              --   \n",
        "4                               0                            6617   \n",
        "\n",
        "           ...           BARE_SOIL - MIN  BARE_SOIL - MAX  BARE_SOIL - MEAN  \\\n",
        "0          ...                         0             3831              1323   \n",
        "1          ...                        --               --                --   \n",
        "2          ...                         0             5344              1213   \n",
        "3          ...                        --               --                --   \n",
        "4          ...                         0            10565              2188   \n",
        "\n",
        "   UNMIXING_ERROR - # DATA PIXELS  UNMIXING_ERROR - # DATA PIXELS AFTER PQA  \\\n",
        "0                        16000000                                  16000000   \n",
        "1                          948036                                    948036   \n",
        "2                        16000000                                  16000000   \n",
        "3                          918026                                    918026   \n",
        "4                        16000000                                  16000000   \n",
        "\n",
        "  UNMIXING_ERROR - # DATA PIXELS AFTER PQA WOFS  \\\n",
        "0                                      16000000   \n",
        "1                                        948036   \n",
        "2                                      16000000   \n",
        "3                                        918026   \n",
        "4                                      16000000   \n",
        "\n",
        "  UNMIXING_ERROR - # DATA PIXELS AFTER PQA WOFS AOI UNMIXING_ERROR - MIN  \\\n",
        "0                                               730                  861   \n",
        "1                                                 0                   --   \n",
        "2                                               730                  760   \n",
        "3                                                 0                   --   \n",
        "4                                               730                  903   \n",
        "\n",
        "   UNMIXING_ERROR - MAX  UNMIXING_ERROR - MEAN  \n",
        "0                  1798                   1204  \n",
        "1                    --                     --  \n",
        "2                  1353                    938  \n",
        "3                    --                     --  \n",
        "4                  1858                   1194  \n",
        "\n",
        "[5 rows x 32 columns]"
       ]
      }
     ],
     "prompt_number": 32
    },
    {
     "cell_type": "code",
     "collapsed": false,
     "input": [],
     "language": "python",
     "metadata": {},
     "outputs": []
    }
   ],
   "metadata": {}
  }
 ]
}